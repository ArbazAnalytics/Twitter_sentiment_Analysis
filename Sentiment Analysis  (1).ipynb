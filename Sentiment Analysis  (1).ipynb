{
 "cells": [
  {
   "cell_type": "markdown",
   "id": "2d9116c3",
   "metadata": {},
   "source": [
    "# DATASET - Twitter tweet sentiment prediction "
   ]
  },
  {
   "cell_type": "markdown",
   "id": "383347ec",
   "metadata": {},
   "source": [
    "### Aim to predict - Sentiment of Tweets, weather Positive, negative or Neutral "
   ]
  },
  {
   "cell_type": "markdown",
   "id": "d1db9714",
   "metadata": {},
   "source": [
    "### Brief about dataset"
   ]
  },
  {
   "cell_type": "markdown",
   "id": "56c1e9df",
   "metadata": {},
   "source": [
    "I have taken this dataset from kaggle, it has 4 columns and 74681 Rows, we will train our model to predict the tweets column sentiments, weather it is positive, negative or neutral. "
   ]
  },
  {
   "cell_type": "markdown",
   "id": "66ef4ca8",
   "metadata": {},
   "source": [
    "#### Importing the Libraries "
   ]
  },
  {
   "cell_type": "code",
   "execution_count": 1,
   "id": "05a7eb54",
   "metadata": {},
   "outputs": [],
   "source": [
    "import pandas as pd\n",
    "import numpy as np\n",
    "import nltk\n",
    "import re\n",
    "import string\n",
    "import gensim\n",
    "\n",
    "from gensim import models\n",
    "\n",
    "import seaborn as sns"
   ]
  },
  {
   "cell_type": "code",
   "execution_count": 15,
   "id": "421be6f4",
   "metadata": {},
   "outputs": [],
   "source": [
    "    wn = nltk.WordNetLemmatizer()\n",
    "    stopwords = nltk.corpus.stopwords.words('english')"
   ]
  },
  {
   "cell_type": "markdown",
   "id": "256eef8c",
   "metadata": {},
   "source": [
    "# 1. read in-text data "
   ]
  },
  {
   "cell_type": "code",
   "execution_count": 3,
   "id": "671c2727",
   "metadata": {
    "scrolled": true
   },
   "outputs": [
    {
     "data": {
      "text/html": [
       "<div>\n",
       "<style scoped>\n",
       "    .dataframe tbody tr th:only-of-type {\n",
       "        vertical-align: middle;\n",
       "    }\n",
       "\n",
       "    .dataframe tbody tr th {\n",
       "        vertical-align: top;\n",
       "    }\n",
       "\n",
       "    .dataframe thead th {\n",
       "        text-align: right;\n",
       "    }\n",
       "</style>\n",
       "<table border=\"1\" class=\"dataframe\">\n",
       "  <thead>\n",
       "    <tr style=\"text-align: right;\">\n",
       "      <th></th>\n",
       "      <th>2401</th>\n",
       "      <th>Borderlands</th>\n",
       "      <th>Positive</th>\n",
       "      <th>im getting on borderlands and i will murder you all ,</th>\n",
       "    </tr>\n",
       "  </thead>\n",
       "  <tbody>\n",
       "    <tr>\n",
       "      <th>0</th>\n",
       "      <td>2401</td>\n",
       "      <td>Borderlands</td>\n",
       "      <td>Positive</td>\n",
       "      <td>I am coming to the borders and I will kill you...</td>\n",
       "    </tr>\n",
       "    <tr>\n",
       "      <th>1</th>\n",
       "      <td>2401</td>\n",
       "      <td>Borderlands</td>\n",
       "      <td>Positive</td>\n",
       "      <td>im getting on borderlands and i will kill you ...</td>\n",
       "    </tr>\n",
       "    <tr>\n",
       "      <th>2</th>\n",
       "      <td>2401</td>\n",
       "      <td>Borderlands</td>\n",
       "      <td>Positive</td>\n",
       "      <td>im coming on borderlands and i will murder you...</td>\n",
       "    </tr>\n",
       "    <tr>\n",
       "      <th>3</th>\n",
       "      <td>2401</td>\n",
       "      <td>Borderlands</td>\n",
       "      <td>Positive</td>\n",
       "      <td>im getting on borderlands 2 and i will murder ...</td>\n",
       "    </tr>\n",
       "    <tr>\n",
       "      <th>4</th>\n",
       "      <td>2401</td>\n",
       "      <td>Borderlands</td>\n",
       "      <td>Positive</td>\n",
       "      <td>im getting into borderlands and i can murder y...</td>\n",
       "    </tr>\n",
       "    <tr>\n",
       "      <th>5</th>\n",
       "      <td>2402</td>\n",
       "      <td>Borderlands</td>\n",
       "      <td>Positive</td>\n",
       "      <td>So I spent a few hours making something for fu...</td>\n",
       "    </tr>\n",
       "    <tr>\n",
       "      <th>6</th>\n",
       "      <td>2402</td>\n",
       "      <td>Borderlands</td>\n",
       "      <td>Positive</td>\n",
       "      <td>So I spent a couple of hours doing something f...</td>\n",
       "    </tr>\n",
       "    <tr>\n",
       "      <th>7</th>\n",
       "      <td>2402</td>\n",
       "      <td>Borderlands</td>\n",
       "      <td>Positive</td>\n",
       "      <td>So I spent a few hours doing something for fun...</td>\n",
       "    </tr>\n",
       "    <tr>\n",
       "      <th>8</th>\n",
       "      <td>2402</td>\n",
       "      <td>Borderlands</td>\n",
       "      <td>Positive</td>\n",
       "      <td>So I spent a few hours making something for fu...</td>\n",
       "    </tr>\n",
       "    <tr>\n",
       "      <th>9</th>\n",
       "      <td>2402</td>\n",
       "      <td>Borderlands</td>\n",
       "      <td>Positive</td>\n",
       "      <td>2010 So I spent a few hours making something f...</td>\n",
       "    </tr>\n",
       "    <tr>\n",
       "      <th>10</th>\n",
       "      <td>2402</td>\n",
       "      <td>Borderlands</td>\n",
       "      <td>Positive</td>\n",
       "      <td>was</td>\n",
       "    </tr>\n",
       "    <tr>\n",
       "      <th>11</th>\n",
       "      <td>2403</td>\n",
       "      <td>Borderlands</td>\n",
       "      <td>Neutral</td>\n",
       "      <td>Rock-Hard La Varlope, RARE &amp; POWERFUL, HANDSOM...</td>\n",
       "    </tr>\n",
       "    <tr>\n",
       "      <th>12</th>\n",
       "      <td>2403</td>\n",
       "      <td>Borderlands</td>\n",
       "      <td>Neutral</td>\n",
       "      <td>Rock-Hard La Varlope, RARE &amp; POWERFUL, HANDSOM...</td>\n",
       "    </tr>\n",
       "    <tr>\n",
       "      <th>13</th>\n",
       "      <td>2403</td>\n",
       "      <td>Borderlands</td>\n",
       "      <td>Neutral</td>\n",
       "      <td>Rock-Hard La Varlope, RARE &amp; POWERFUL, HANDSOM...</td>\n",
       "    </tr>\n",
       "    <tr>\n",
       "      <th>14</th>\n",
       "      <td>2403</td>\n",
       "      <td>Borderlands</td>\n",
       "      <td>Neutral</td>\n",
       "      <td>Rock-Hard La Vita, RARE BUT POWERFUL, HANDSOME...</td>\n",
       "    </tr>\n",
       "    <tr>\n",
       "      <th>15</th>\n",
       "      <td>2403</td>\n",
       "      <td>Borderlands</td>\n",
       "      <td>Neutral</td>\n",
       "      <td>Live Rock - Hard music La la Varlope, RARE &amp; t...</td>\n",
       "    </tr>\n",
       "    <tr>\n",
       "      <th>16</th>\n",
       "      <td>2403</td>\n",
       "      <td>Borderlands</td>\n",
       "      <td>Neutral</td>\n",
       "      <td>I-Hard like me, RARE LONDON DE, HANDSOME 2011,...</td>\n",
       "    </tr>\n",
       "    <tr>\n",
       "      <th>17</th>\n",
       "      <td>2404</td>\n",
       "      <td>Borderlands</td>\n",
       "      <td>Positive</td>\n",
       "      <td>that was the first borderlands session in a lo...</td>\n",
       "    </tr>\n",
       "    <tr>\n",
       "      <th>18</th>\n",
       "      <td>2404</td>\n",
       "      <td>Borderlands</td>\n",
       "      <td>Positive</td>\n",
       "      <td>this was the first Borderlands session in a lo...</td>\n",
       "    </tr>\n",
       "    <tr>\n",
       "      <th>19</th>\n",
       "      <td>2404</td>\n",
       "      <td>Borderlands</td>\n",
       "      <td>Positive</td>\n",
       "      <td>that was the first borderlands session in a lo...</td>\n",
       "    </tr>\n",
       "    <tr>\n",
       "      <th>20</th>\n",
       "      <td>2404</td>\n",
       "      <td>Borderlands</td>\n",
       "      <td>Positive</td>\n",
       "      <td>that was the first borderlands session in a lo...</td>\n",
       "    </tr>\n",
       "    <tr>\n",
       "      <th>21</th>\n",
       "      <td>2404</td>\n",
       "      <td>Borderlands</td>\n",
       "      <td>Positive</td>\n",
       "      <td>that I was the first real borderlands session ...</td>\n",
       "    </tr>\n",
       "    <tr>\n",
       "      <th>22</th>\n",
       "      <td>2404</td>\n",
       "      <td>Borderlands</td>\n",
       "      <td>Positive</td>\n",
       "      <td>that was the first borderlands session in a ho...</td>\n",
       "    </tr>\n",
       "    <tr>\n",
       "      <th>23</th>\n",
       "      <td>2405</td>\n",
       "      <td>Borderlands</td>\n",
       "      <td>Negative</td>\n",
       "      <td>the biggest dissappoinment in my life came out...</td>\n",
       "    </tr>\n",
       "    <tr>\n",
       "      <th>24</th>\n",
       "      <td>2405</td>\n",
       "      <td>Borderlands</td>\n",
       "      <td>Negative</td>\n",
       "      <td>The biggest disappointment of my life came a y...</td>\n",
       "    </tr>\n",
       "    <tr>\n",
       "      <th>25</th>\n",
       "      <td>2405</td>\n",
       "      <td>Borderlands</td>\n",
       "      <td>Negative</td>\n",
       "      <td>The biggest disappointment of my life came a y...</td>\n",
       "    </tr>\n",
       "    <tr>\n",
       "      <th>26</th>\n",
       "      <td>2405</td>\n",
       "      <td>Borderlands</td>\n",
       "      <td>Negative</td>\n",
       "      <td>the biggest dissappoinment in my life coming o...</td>\n",
       "    </tr>\n",
       "    <tr>\n",
       "      <th>27</th>\n",
       "      <td>2405</td>\n",
       "      <td>Borderlands</td>\n",
       "      <td>Negative</td>\n",
       "      <td>For the biggest male dissappoinment in my life...</td>\n",
       "    </tr>\n",
       "    <tr>\n",
       "      <th>28</th>\n",
       "      <td>2405</td>\n",
       "      <td>Borderlands</td>\n",
       "      <td>Negative</td>\n",
       "      <td>the biggest dissappoinment in my life came bac...</td>\n",
       "    </tr>\n",
       "    <tr>\n",
       "      <th>29</th>\n",
       "      <td>2406</td>\n",
       "      <td>Borderlands</td>\n",
       "      <td>Positive</td>\n",
       "      <td>WE FINISHED BORDERLANDS 3 FINALLY YAS! Thank y...</td>\n",
       "    </tr>\n",
       "  </tbody>\n",
       "</table>\n",
       "</div>"
      ],
      "text/plain": [
       "    2401  Borderlands  Positive  \\\n",
       "0   2401  Borderlands  Positive   \n",
       "1   2401  Borderlands  Positive   \n",
       "2   2401  Borderlands  Positive   \n",
       "3   2401  Borderlands  Positive   \n",
       "4   2401  Borderlands  Positive   \n",
       "5   2402  Borderlands  Positive   \n",
       "6   2402  Borderlands  Positive   \n",
       "7   2402  Borderlands  Positive   \n",
       "8   2402  Borderlands  Positive   \n",
       "9   2402  Borderlands  Positive   \n",
       "10  2402  Borderlands  Positive   \n",
       "11  2403  Borderlands   Neutral   \n",
       "12  2403  Borderlands   Neutral   \n",
       "13  2403  Borderlands   Neutral   \n",
       "14  2403  Borderlands   Neutral   \n",
       "15  2403  Borderlands   Neutral   \n",
       "16  2403  Borderlands   Neutral   \n",
       "17  2404  Borderlands  Positive   \n",
       "18  2404  Borderlands  Positive   \n",
       "19  2404  Borderlands  Positive   \n",
       "20  2404  Borderlands  Positive   \n",
       "21  2404  Borderlands  Positive   \n",
       "22  2404  Borderlands  Positive   \n",
       "23  2405  Borderlands  Negative   \n",
       "24  2405  Borderlands  Negative   \n",
       "25  2405  Borderlands  Negative   \n",
       "26  2405  Borderlands  Negative   \n",
       "27  2405  Borderlands  Negative   \n",
       "28  2405  Borderlands  Negative   \n",
       "29  2406  Borderlands  Positive   \n",
       "\n",
       "   im getting on borderlands and i will murder you all ,  \n",
       "0   I am coming to the borders and I will kill you...     \n",
       "1   im getting on borderlands and i will kill you ...     \n",
       "2   im coming on borderlands and i will murder you...     \n",
       "3   im getting on borderlands 2 and i will murder ...     \n",
       "4   im getting into borderlands and i can murder y...     \n",
       "5   So I spent a few hours making something for fu...     \n",
       "6   So I spent a couple of hours doing something f...     \n",
       "7   So I spent a few hours doing something for fun...     \n",
       "8   So I spent a few hours making something for fu...     \n",
       "9   2010 So I spent a few hours making something f...     \n",
       "10                                                was     \n",
       "11  Rock-Hard La Varlope, RARE & POWERFUL, HANDSOM...     \n",
       "12  Rock-Hard La Varlope, RARE & POWERFUL, HANDSOM...     \n",
       "13  Rock-Hard La Varlope, RARE & POWERFUL, HANDSOM...     \n",
       "14  Rock-Hard La Vita, RARE BUT POWERFUL, HANDSOME...     \n",
       "15  Live Rock - Hard music La la Varlope, RARE & t...     \n",
       "16  I-Hard like me, RARE LONDON DE, HANDSOME 2011,...     \n",
       "17  that was the first borderlands session in a lo...     \n",
       "18  this was the first Borderlands session in a lo...     \n",
       "19  that was the first borderlands session in a lo...     \n",
       "20  that was the first borderlands session in a lo...     \n",
       "21  that I was the first real borderlands session ...     \n",
       "22  that was the first borderlands session in a ho...     \n",
       "23  the biggest dissappoinment in my life came out...     \n",
       "24  The biggest disappointment of my life came a y...     \n",
       "25  The biggest disappointment of my life came a y...     \n",
       "26  the biggest dissappoinment in my life coming o...     \n",
       "27  For the biggest male dissappoinment in my life...     \n",
       "28  the biggest dissappoinment in my life came bac...     \n",
       "29  WE FINISHED BORDERLANDS 3 FINALLY YAS! Thank y...     "
      ]
     },
     "execution_count": 3,
     "metadata": {},
     "output_type": "execute_result"
    }
   ],
   "source": [
    "data = pd.read_csv(\"twitter_sentiment.csv\")\n",
    "data.head(30)"
   ]
  },
  {
   "cell_type": "markdown",
   "id": "21d5dfaa",
   "metadata": {},
   "source": [
    "### Pre-processing "
   ]
  },
  {
   "cell_type": "code",
   "execution_count": 4,
   "id": "aa102d2a",
   "metadata": {},
   "outputs": [
    {
     "data": {
      "text/plain": [
       "(74681, 4)"
      ]
     },
     "execution_count": 4,
     "metadata": {},
     "output_type": "execute_result"
    }
   ],
   "source": [
    "data.shape"
   ]
  },
  {
   "cell_type": "code",
   "execution_count": 5,
   "id": "3774c4af",
   "metadata": {},
   "outputs": [
    {
     "data": {
      "text/plain": [
       "2401                                                       0\n",
       "Borderlands                                                0\n",
       "Positive                                                   0\n",
       "im getting on borderlands and i will murder you all ,    686\n",
       "dtype: int64"
      ]
     },
     "execution_count": 5,
     "metadata": {},
     "output_type": "execute_result"
    }
   ],
   "source": [
    "data.isnull().sum()"
   ]
  },
  {
   "cell_type": "markdown",
   "id": "c90d2bff",
   "metadata": {},
   "source": [
    "### Dropping the null values "
   ]
  },
  {
   "cell_type": "code",
   "execution_count": 6,
   "id": "fe188927",
   "metadata": {},
   "outputs": [],
   "source": [
    "clean_data = data.dropna()"
   ]
  },
  {
   "cell_type": "code",
   "execution_count": 7,
   "id": "1f464251",
   "metadata": {},
   "outputs": [
    {
     "data": {
      "text/plain": [
       "2401                                                     0\n",
       "Borderlands                                              0\n",
       "Positive                                                 0\n",
       "im getting on borderlands and i will murder you all ,    0\n",
       "dtype: int64"
      ]
     },
     "execution_count": 7,
     "metadata": {},
     "output_type": "execute_result"
    }
   ],
   "source": [
    "clean_data.isnull().sum()"
   ]
  },
  {
   "cell_type": "markdown",
   "id": "a3318430",
   "metadata": {},
   "source": [
    "### Droping the less relevant columns"
   ]
  },
  {
   "cell_type": "code",
   "execution_count": 8,
   "id": "0fcc6ef2",
   "metadata": {},
   "outputs": [],
   "source": [
    "clean_data = clean_data.drop(columns=['2401', 'Borderlands'])"
   ]
  },
  {
   "cell_type": "code",
   "execution_count": 9,
   "id": "9778020e",
   "metadata": {},
   "outputs": [
    {
     "data": {
      "text/html": [
       "<div>\n",
       "<style scoped>\n",
       "    .dataframe tbody tr th:only-of-type {\n",
       "        vertical-align: middle;\n",
       "    }\n",
       "\n",
       "    .dataframe tbody tr th {\n",
       "        vertical-align: top;\n",
       "    }\n",
       "\n",
       "    .dataframe thead th {\n",
       "        text-align: right;\n",
       "    }\n",
       "</style>\n",
       "<table border=\"1\" class=\"dataframe\">\n",
       "  <thead>\n",
       "    <tr style=\"text-align: right;\">\n",
       "      <th></th>\n",
       "      <th>Positive</th>\n",
       "      <th>im getting on borderlands and i will murder you all ,</th>\n",
       "    </tr>\n",
       "  </thead>\n",
       "  <tbody>\n",
       "    <tr>\n",
       "      <th>0</th>\n",
       "      <td>Positive</td>\n",
       "      <td>I am coming to the borders and I will kill you...</td>\n",
       "    </tr>\n",
       "    <tr>\n",
       "      <th>1</th>\n",
       "      <td>Positive</td>\n",
       "      <td>im getting on borderlands and i will kill you ...</td>\n",
       "    </tr>\n",
       "    <tr>\n",
       "      <th>2</th>\n",
       "      <td>Positive</td>\n",
       "      <td>im coming on borderlands and i will murder you...</td>\n",
       "    </tr>\n",
       "    <tr>\n",
       "      <th>3</th>\n",
       "      <td>Positive</td>\n",
       "      <td>im getting on borderlands 2 and i will murder ...</td>\n",
       "    </tr>\n",
       "    <tr>\n",
       "      <th>4</th>\n",
       "      <td>Positive</td>\n",
       "      <td>im getting into borderlands and i can murder y...</td>\n",
       "    </tr>\n",
       "  </tbody>\n",
       "</table>\n",
       "</div>"
      ],
      "text/plain": [
       "   Positive im getting on borderlands and i will murder you all ,\n",
       "0  Positive  I am coming to the borders and I will kill you...   \n",
       "1  Positive  im getting on borderlands and i will kill you ...   \n",
       "2  Positive  im coming on borderlands and i will murder you...   \n",
       "3  Positive  im getting on borderlands 2 and i will murder ...   \n",
       "4  Positive  im getting into borderlands and i can murder y...   "
      ]
     },
     "execution_count": 9,
     "metadata": {},
     "output_type": "execute_result"
    }
   ],
   "source": [
    "clean_data.head()"
   ]
  },
  {
   "cell_type": "code",
   "execution_count": 13,
   "id": "2de34c8f",
   "metadata": {},
   "outputs": [],
   "source": [
    "clean_data.columns = ['Sentiment','Review']"
   ]
  },
  {
   "cell_type": "code",
   "execution_count": 14,
   "id": "9024fd68",
   "metadata": {},
   "outputs": [
    {
     "data": {
      "text/html": [
       "<div>\n",
       "<style scoped>\n",
       "    .dataframe tbody tr th:only-of-type {\n",
       "        vertical-align: middle;\n",
       "    }\n",
       "\n",
       "    .dataframe tbody tr th {\n",
       "        vertical-align: top;\n",
       "    }\n",
       "\n",
       "    .dataframe thead th {\n",
       "        text-align: right;\n",
       "    }\n",
       "</style>\n",
       "<table border=\"1\" class=\"dataframe\">\n",
       "  <thead>\n",
       "    <tr style=\"text-align: right;\">\n",
       "      <th></th>\n",
       "      <th>Sentiment</th>\n",
       "      <th>Review</th>\n",
       "    </tr>\n",
       "  </thead>\n",
       "  <tbody>\n",
       "    <tr>\n",
       "      <th>0</th>\n",
       "      <td>Positive</td>\n",
       "      <td>I am coming to the borders and I will kill you...</td>\n",
       "    </tr>\n",
       "    <tr>\n",
       "      <th>1</th>\n",
       "      <td>Positive</td>\n",
       "      <td>im getting on borderlands and i will kill you ...</td>\n",
       "    </tr>\n",
       "    <tr>\n",
       "      <th>2</th>\n",
       "      <td>Positive</td>\n",
       "      <td>im coming on borderlands and i will murder you...</td>\n",
       "    </tr>\n",
       "    <tr>\n",
       "      <th>3</th>\n",
       "      <td>Positive</td>\n",
       "      <td>im getting on borderlands 2 and i will murder ...</td>\n",
       "    </tr>\n",
       "    <tr>\n",
       "      <th>4</th>\n",
       "      <td>Positive</td>\n",
       "      <td>im getting into borderlands and i can murder y...</td>\n",
       "    </tr>\n",
       "  </tbody>\n",
       "</table>\n",
       "</div>"
      ],
      "text/plain": [
       "  Sentiment                                             Review\n",
       "0  Positive  I am coming to the borders and I will kill you...\n",
       "1  Positive  im getting on borderlands and i will kill you ...\n",
       "2  Positive  im coming on borderlands and i will murder you...\n",
       "3  Positive  im getting on borderlands 2 and i will murder ...\n",
       "4  Positive  im getting into borderlands and i can murder y..."
      ]
     },
     "execution_count": 14,
     "metadata": {},
     "output_type": "execute_result"
    }
   ],
   "source": [
    "clean_data.head()"
   ]
  },
  {
   "cell_type": "markdown",
   "id": "bf613cc1",
   "metadata": {},
   "source": [
    "# 2. format using regex and other tools, punctuation , tokenize, remove stop words stem and lemmatize the data."
   ]
  },
  {
   "cell_type": "code",
   "execution_count": 12,
   "id": "0244387e",
   "metadata": {},
   "outputs": [
    {
     "data": {
      "text/html": [
       "<div>\n",
       "<style scoped>\n",
       "    .dataframe tbody tr th:only-of-type {\n",
       "        vertical-align: middle;\n",
       "    }\n",
       "\n",
       "    .dataframe tbody tr th {\n",
       "        vertical-align: top;\n",
       "    }\n",
       "\n",
       "    .dataframe thead th {\n",
       "        text-align: right;\n",
       "    }\n",
       "</style>\n",
       "<table border=\"1\" class=\"dataframe\">\n",
       "  <thead>\n",
       "    <tr style=\"text-align: right;\">\n",
       "      <th></th>\n",
       "      <th>Sentiment</th>\n",
       "      <th>Review</th>\n",
       "      <th>clean_gensim</th>\n",
       "      <th>cleaner</th>\n",
       "      <th>lemmatized</th>\n",
       "    </tr>\n",
       "  </thead>\n",
       "  <tbody>\n",
       "    <tr>\n",
       "      <th>0</th>\n",
       "      <td>Positive</td>\n",
       "      <td>I am coming to the borders and I will kill you...</td>\n",
       "      <td>[am, coming, to, the, borders, and, will, kill...</td>\n",
       "      <td>[coming, borders, kill]</td>\n",
       "      <td>[coming, border, kill]</td>\n",
       "    </tr>\n",
       "    <tr>\n",
       "      <th>1</th>\n",
       "      <td>Positive</td>\n",
       "      <td>im getting on borderlands and i will kill you ...</td>\n",
       "      <td>[im, getting, on, borderlands, and, will, kill...</td>\n",
       "      <td>[im, getting, borderlands, kill]</td>\n",
       "      <td>[im, getting, borderland, kill]</td>\n",
       "    </tr>\n",
       "    <tr>\n",
       "      <th>2</th>\n",
       "      <td>Positive</td>\n",
       "      <td>im coming on borderlands and i will murder you...</td>\n",
       "      <td>[im, coming, on, borderlands, and, will, murde...</td>\n",
       "      <td>[im, coming, borderlands, murder]</td>\n",
       "      <td>[im, coming, borderland, murder]</td>\n",
       "    </tr>\n",
       "    <tr>\n",
       "      <th>3</th>\n",
       "      <td>Positive</td>\n",
       "      <td>im getting on borderlands 2 and i will murder ...</td>\n",
       "      <td>[im, getting, on, borderlands, and, will, murd...</td>\n",
       "      <td>[im, getting, borderlands, murder]</td>\n",
       "      <td>[im, getting, borderland, murder]</td>\n",
       "    </tr>\n",
       "    <tr>\n",
       "      <th>4</th>\n",
       "      <td>Positive</td>\n",
       "      <td>im getting into borderlands and i can murder y...</td>\n",
       "      <td>[im, getting, into, borderlands, and, can, mur...</td>\n",
       "      <td>[im, getting, borderlands, murder]</td>\n",
       "      <td>[im, getting, borderland, murder]</td>\n",
       "    </tr>\n",
       "  </tbody>\n",
       "</table>\n",
       "</div>"
      ],
      "text/plain": [
       "  Sentiment                                             Review  \\\n",
       "0  Positive  I am coming to the borders and I will kill you...   \n",
       "1  Positive  im getting on borderlands and i will kill you ...   \n",
       "2  Positive  im coming on borderlands and i will murder you...   \n",
       "3  Positive  im getting on borderlands 2 and i will murder ...   \n",
       "4  Positive  im getting into borderlands and i can murder y...   \n",
       "\n",
       "                                        clean_gensim  \\\n",
       "0  [am, coming, to, the, borders, and, will, kill...   \n",
       "1  [im, getting, on, borderlands, and, will, kill...   \n",
       "2  [im, coming, on, borderlands, and, will, murde...   \n",
       "3  [im, getting, on, borderlands, and, will, murd...   \n",
       "4  [im, getting, into, borderlands, and, can, mur...   \n",
       "\n",
       "                              cleaner                         lemmatized  \n",
       "0             [coming, borders, kill]             [coming, border, kill]  \n",
       "1    [im, getting, borderlands, kill]    [im, getting, borderland, kill]  \n",
       "2   [im, coming, borderlands, murder]   [im, coming, borderland, murder]  \n",
       "3  [im, getting, borderlands, murder]  [im, getting, borderland, murder]  \n",
       "4  [im, getting, borderlands, murder]  [im, getting, borderland, murder]  "
      ]
     },
     "execution_count": 12,
     "metadata": {},
     "output_type": "execute_result"
    }
   ],
   "source": [
    "#Removed number and punctuations\n",
    "#Tokenize and converted into Lowecase\n",
    "\n",
    "clean_data['clean_gensim'] = clean_data['Review'].apply(lambda x: gensim.utils.simple_preprocess(x))\n",
    "\n",
    "\n",
    "def clean_one(text):\n",
    "    text = \" \".join([word for word in text if word not in string.punctuation])\n",
    "    tokens = re.split('\\W+', text)\n",
    "    text = [word for word in tokens if word not in stopwords]\n",
    "    return text\n",
    "\n",
    "#Removed Stopwords\n",
    "\n",
    "clean_data['cleaner'] = clean_data['clean_gensim'].apply(lambda x: clean_one(x))\n",
    "\n",
    "def lemma(token_text):\n",
    "    text = [wn.lemmatize(word) for word in token_text]\n",
    "    return text\n",
    "\n",
    "#Lemmatized\n",
    "\n",
    "clean_data['lemmatized'] = clean_data['cleaner'].apply(lambda x: lemma(x))\n",
    "\n",
    "clean_data.head()"
   ]
  },
  {
   "cell_type": "markdown",
   "id": "ac95c993",
   "metadata": {},
   "source": [
    "### Splitting the data for testing and training "
   ]
  },
  {
   "cell_type": "code",
   "execution_count": 13,
   "id": "3516c499",
   "metadata": {},
   "outputs": [
    {
     "name": "stdout",
     "output_type": "stream",
     "text": [
      "\n",
      "X_train size:\t (59196,)\n",
      "\n",
      "X_test size:\t (14799,)\n",
      "\n",
      "y_train size:\t (59196,)\n",
      "\n",
      "y_test size:\t (14799,)\n"
     ]
    }
   ],
   "source": [
    "from sklearn.model_selection import train_test_split\n",
    "\n",
    "X_train,X_test,y_train,y_test = train_test_split(clean_data['lemmatized'], clean_data['Sentiment'], test_size=0.2, random_state=42)\n",
    "\n",
    "print('\\nX_train size:\\t',X_train.shape)\n",
    "print('\\nX_test size:\\t',X_test.shape)\n",
    "print('\\ny_train size:\\t',y_train.shape)\n",
    "print('\\ny_test size:\\t',y_test.shape)"
   ]
  },
  {
   "cell_type": "markdown",
   "id": "fb75b2e5",
   "metadata": {},
   "source": [
    "# 3. Vectorize your data\n",
    "# 4. Create and transform features "
   ]
  },
  {
   "cell_type": "code",
   "execution_count": 14,
   "id": "3201e9d3",
   "metadata": {},
   "outputs": [
    {
     "data": {
      "text/plain": [
       "((59196, 25983), (14799, 25983))"
      ]
     },
     "execution_count": 14,
     "metadata": {},
     "output_type": "execute_result"
    }
   ],
   "source": [
    "from sklearn.feature_extraction.text import TfidfVectorizer\n",
    "\n",
    "vectorizer = TfidfVectorizer()\n",
    "\n",
    "X_train = vectorizer.fit_transform(X_train.astype('U'))\n",
    "\n",
    "X_test = vectorizer.transform(X_test.astype('U'))\n",
    "\n",
    "X_train.shape, X_test.shape"
   ]
  },
  {
   "cell_type": "markdown",
   "id": "2e5cabfe",
   "metadata": {},
   "source": [
    "# 5. Select 2 algorithms and build 2 models \n",
    "# 6. make predictions & evaluate the results"
   ]
  },
  {
   "cell_type": "markdown",
   "id": "2e0cef62",
   "metadata": {},
   "source": [
    "### Logistics Regression "
   ]
  },
  {
   "cell_type": "code",
   "execution_count": 15,
   "id": "c6c3f5bf",
   "metadata": {},
   "outputs": [
    {
     "name": "stdout",
     "output_type": "stream",
     "text": [
      "Accuracy calculation results Data Test  : 0.7808635718629637\n"
     ]
    },
    {
     "name": "stderr",
     "output_type": "stream",
     "text": [
      "C:\\Users\\User\\anaconda3\\lib\\site-packages\\sklearn\\linear_model\\_logistic.py:814: ConvergenceWarning: lbfgs failed to converge (status=1):\n",
      "STOP: TOTAL NO. of ITERATIONS REACHED LIMIT.\n",
      "\n",
      "Increase the number of iterations (max_iter) or scale the data as shown in:\n",
      "    https://scikit-learn.org/stable/modules/preprocessing.html\n",
      "Please also refer to the documentation for alternative solver options:\n",
      "    https://scikit-learn.org/stable/modules/linear_model.html#logistic-regression\n",
      "  n_iter_i = _check_optimize_result(\n"
     ]
    }
   ],
   "source": [
    "from sklearn.linear_model import LogisticRegression\n",
    "from sklearn.metrics import accuracy_score\n",
    "from sklearn.metrics import classification_report, confusion_matrix\n",
    "\n",
    "# Initializing LogisticRegression\n",
    "\n",
    "lr = LogisticRegression()\n",
    "\n",
    "# Fit model\n",
    "\n",
    "lr.fit(X_train, y_train)\n",
    "\n",
    "y_pred_test = lr.predict(X_test)\n",
    "\n",
    "# Evaluation accuracy data training\n",
    "\n",
    "acc_test_lr = accuracy_score(y_test, y_pred_test)\n",
    "\n",
    "# Print accuracy\n",
    "\n",
    "\n",
    "print(f'Accuracy calculation results Data Test  : {acc_test_lr}')"
   ]
  },
  {
   "cell_type": "code",
   "execution_count": 16,
   "id": "21b40764",
   "metadata": {
    "scrolled": true
   },
   "outputs": [
    {
     "name": "stdout",
     "output_type": "stream",
     "text": [
      "              precision    recall  f1-score   support\n",
      "\n",
      "  Irrelevant       0.83      0.67      0.74      2624\n",
      "    Negative       0.79      0.83      0.81      4463\n",
      "     Neutral       0.75      0.76      0.76      3589\n",
      "    Positive       0.77      0.81      0.79      4123\n",
      "\n",
      "    accuracy                           0.78     14799\n",
      "   macro avg       0.79      0.77      0.78     14799\n",
      "weighted avg       0.78      0.78      0.78     14799\n",
      "\n"
     ]
    }
   ],
   "source": [
    "lr_class = classification_report(y_test, y_pred_test)\n",
    "\n",
    "print(lr_class)"
   ]
  },
  {
   "cell_type": "markdown",
   "id": "2839266c",
   "metadata": {},
   "source": [
    "### Linear SVM"
   ]
  },
  {
   "cell_type": "code",
   "execution_count": 17,
   "id": "68b74bcd",
   "metadata": {},
   "outputs": [
    {
     "name": "stdout",
     "output_type": "stream",
     "text": [
      "Accuracy calculation results Data Test  : 0.8575579431042638\n"
     ]
    }
   ],
   "source": [
    "from sklearn.svm import LinearSVC\n",
    "\n",
    "# Initialize Linear SVM\n",
    "\n",
    "lsvc = LinearSVC()\n",
    "\n",
    "# Fit model\n",
    "lsvc.fit(X_train, y_train)\n",
    "\n",
    "# Predication Accuracy data training\n",
    "\n",
    "y_pred_test = lsvc.predict(X_test)\n",
    "\n",
    "# Evaluation Accuracy of test data\n",
    "\n",
    "acc_test_sv = accuracy_score(y_test, y_pred_test)\n",
    "\n",
    "# Print Accuracy\n",
    "\n",
    "\n",
    "print(f'Accuracy calculation results Data Test  : {acc_test_sv}')"
   ]
  },
  {
   "cell_type": "code",
   "execution_count": 18,
   "id": "ab374ee4",
   "metadata": {},
   "outputs": [
    {
     "name": "stdout",
     "output_type": "stream",
     "text": [
      "              precision    recall  f1-score   support\n",
      "\n",
      "  Irrelevant       0.90      0.80      0.85      2624\n",
      "    Negative       0.87      0.88      0.87      4463\n",
      "     Neutral       0.89      0.83      0.86      3589\n",
      "    Positive       0.80      0.89      0.84      4123\n",
      "\n",
      "    accuracy                           0.86     14799\n",
      "   macro avg       0.86      0.85      0.86     14799\n",
      "weighted avg       0.86      0.86      0.86     14799\n",
      "\n"
     ]
    }
   ],
   "source": [
    "sv_class = classification_report(y_test, y_pred_test)\n",
    "print(sv_class)"
   ]
  },
  {
   "cell_type": "markdown",
   "id": "e35e7b79",
   "metadata": {},
   "source": [
    "# 7. Select one final model & explain why you want to select this particular model as the final model. "
   ]
  },
  {
   "cell_type": "code",
   "execution_count": 19,
   "id": "8ae4f3a4",
   "metadata": {},
   "outputs": [
    {
     "name": "stdout",
     "output_type": "stream",
     "text": [
      "\u001b[1m\t\t\tResults\u001b[0m\n",
      "\n",
      "-------------------------------------------------------\n",
      "\u001b[1m\tFor Logistic Regression the results are:\u001b[0m\n",
      "\n",
      "Test Accuracy Score:\t 0.7808635718629637\n",
      "Classification Report\n",
      "               precision    recall  f1-score   support\n",
      "\n",
      "  Irrelevant       0.83      0.67      0.74      2624\n",
      "    Negative       0.79      0.83      0.81      4463\n",
      "     Neutral       0.75      0.76      0.76      3589\n",
      "    Positive       0.77      0.81      0.79      4123\n",
      "\n",
      "    accuracy                           0.78     14799\n",
      "   macro avg       0.79      0.77      0.78     14799\n",
      "weighted avg       0.78      0.78      0.78     14799\n",
      "\n",
      "\n",
      "-------------------------------------------------------\n",
      "\u001b[1m\tFor SVC the results are:\u001b[0m\n",
      "\n",
      "Test Accuracy Score:\t 0.8575579431042638\n",
      "Classification Report:\n",
      "               precision    recall  f1-score   support\n",
      "\n",
      "  Irrelevant       0.90      0.80      0.85      2624\n",
      "    Negative       0.87      0.88      0.87      4463\n",
      "     Neutral       0.89      0.83      0.86      3589\n",
      "    Positive       0.80      0.89      0.84      4123\n",
      "\n",
      "    accuracy                           0.86     14799\n",
      "   macro avg       0.86      0.85      0.86     14799\n",
      "weighted avg       0.86      0.86      0.86     14799\n",
      "\n",
      "-------------------------------------------------------\n"
     ]
    }
   ],
   "source": [
    "print(\"\\033[1m\"+\"\\t\\t\\tResults\"+\"\\033[0m\")\n",
    "print(\"\\n\"+\"-\"*55)\n",
    "print(\"\\033[1m\"+\"\\tFor Logistic Regression the results are:\"+\"\\033[0m\")\n",
    "print(\"\\nTest Accuracy Score:\\t\", acc_test_lr)\n",
    "print(\"Classification Report\\n\",lr_class)\n",
    "print(\"\\n\"+\"-\"*55)\n",
    "print(\"\\033[1m\"+\"\\tFor SVC the results are:\"+\"\\033[0m\")\n",
    "print(\"\\nTest Accuracy Score:\\t\",acc_test_sv )\n",
    "print(\"Classification Report:\\n\",sv_class)\n",
    "print(\"-\"*55)"
   ]
  },
  {
   "cell_type": "markdown",
   "id": "841dfd0a",
   "metadata": {},
   "source": [
    "So after analyzing both the models classification report properly, we can see accuracy \n",
    "with Support Vector Classifier (SVC) is 85 % which is better than Logistic regression \n",
    "model."
   ]
  },
  {
   "cell_type": "markdown",
   "id": "b9aa55fa",
   "metadata": {},
   "source": [
    "Few reasons of SVM performing better could be as  \n",
    "1. SVM finds the “best” margin which reduces the risk of error on the data.\n",
    "2. SVM works well with unstructured and semi-structured data like text.\n",
    "3. The risk of overfitting is less in SVM"
   ]
  },
  {
   "cell_type": "markdown",
   "id": "0d47a3fc",
   "metadata": {},
   "source": [
    "## Thank you"
   ]
  }
 ],
 "metadata": {
  "kernelspec": {
   "display_name": "Python 3 (ipykernel)",
   "language": "python",
   "name": "python3"
  },
  "language_info": {
   "codemirror_mode": {
    "name": "ipython",
    "version": 3
   },
   "file_extension": ".py",
   "mimetype": "text/x-python",
   "name": "python",
   "nbconvert_exporter": "python",
   "pygments_lexer": "ipython3",
   "version": "3.9.12"
  }
 },
 "nbformat": 4,
 "nbformat_minor": 5
}
